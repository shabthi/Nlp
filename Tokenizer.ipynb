{
 "cells": [
  {
   "cell_type": "code",
   "execution_count": 2,
   "metadata": {},
   "outputs": [
    {
     "name": "stdout",
     "output_type": "stream",
     "text": [
      "{'<OOV>': 1, 'my': 2, 'i': 3, 'love': 4, 'dog': 5, 'cat': 6, 'life': 7, 'is': 8, 'going': 9, 'amazing': 10}\n",
      "\n",
      "Word Index {'<OOV>': 1, 'my': 2, 'i': 3, 'love': 4, 'dog': 5, 'cat': 6, 'life': 7, 'is': 8, 'going': 9, 'amazing': 10}\n",
      "\n",
      "Sequences =  [[3, 4, 2, 5], [3, 4, 2, 6], [2, 7, 8, 1, 1]]\n",
      "\n",
      "Padded Sequences:\n",
      "[[0 0 0 0 3 4 2 5]\n",
      " [0 0 0 0 3 4 2 6]\n",
      " [0 0 0 2 7 8 1 1]]\n",
      "\n",
      "Test Sequences =  [[3, 1, 4, 2, 5], [2, 5, 1, 2, 1]]\n",
      "\n",
      "Padded Test Sequences =  [[3 1 4 2 5]\n",
      " [2 5 1 2 1]]\n"
     ]
    }
   ],
   "source": [
    "from tensorflow.keras.preprocessing.text import Tokenizer\n",
    "sentences = [\n",
    "    'I love my dog',\n",
    "    'I love my cat',\n",
    "    'My life is going amazing!'\n",
    "    \n",
    "]\n",
    "tokenizer  = Tokenizer(num_words = 9, oov_token = '<OOV>')\n",
    "tokenizer.fit_on_texts(sentences)\n",
    "word_index = tokenizer.word_index\n",
    "print(word_index)\n",
    "from tensorflow.keras.preprocessing.sequence import pad_sequences\n",
    "sequences =  tokenizer.texts_to_sequences(sentences)\n",
    "padded = pad_sequences(sequences, maxlen= 8)\n",
    "print('\\nWord Index' , word_index)\n",
    "print('\\nSequences = ',sequences)\n",
    "print('\\nPadded Sequences:')\n",
    "print(padded)\n",
    "\n",
    "#try with words not in the test data\n",
    "test_data = [\n",
    "    'I really love my dog!',\n",
    "    'my dog loves my food'\n",
    "]\n",
    "test_sequences =  tokenizer.texts_to_sequences(test_data)\n",
    "print('\\nTest Sequences = ',test_sequences)\n",
    "padded = pad_sequences(test_sequences, maxlen= 5)\n",
    "print('\\nPadded Test Sequences = ',padded)"
   ]
  },
  {
   "cell_type": "code",
   "execution_count": null,
   "metadata": {},
   "outputs": [],
   "source": []
  }
 ],
 "metadata": {
  "kernelspec": {
   "display_name": "Python 3",
   "language": "python",
   "name": "python3"
  },
  "language_info": {
   "codemirror_mode": {
    "name": "ipython",
    "version": 3
   },
   "file_extension": ".py",
   "mimetype": "text/x-python",
   "name": "python",
   "nbconvert_exporter": "python",
   "pygments_lexer": "ipython3",
   "version": "3.6.10"
  }
 },
 "nbformat": 4,
 "nbformat_minor": 4
}
