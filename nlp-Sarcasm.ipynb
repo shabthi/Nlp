{
 "cells": [
  {
   "cell_type": "raw",
   "metadata": {},
   "source": [
    "Sarcasm dataset load json file"
   ]
  },
  {
   "cell_type": "code",
   "execution_count": 14,
   "metadata": {},
   "outputs": [],
   "source": [
    "import tensorflow as tf\n",
    "from tensorflow.keras.preprocessing.text import Tokenizer\n",
    "from tensorflow.keras.preprocessing.sequence import pad_sequences\n",
    "import json\n",
    "with open(\"news-headlines-dataset-for-sarcasm-detection/Sarcasm_Headlines_Dataset.json\",'r') as f:\n",
    "    datastore = json.load(f)\n",
    "sentences = []\n",
    "labels = []\n",
    "urls = []\n",
    "for item in datastore:\n",
    "    sentences.append(item['headline'])\n",
    "    labels.append(item['is_sarcastic'])\n",
    "    urls.append(item['article_link'])\n",
    "    \n"
   ]
  },
  {
   "cell_type": "code",
   "execution_count": 48,
   "metadata": {},
   "outputs": [],
   "source": [
    "vocab_size = 1000\n",
    "max_length = 32\n",
    "embedding_dim = 24\n",
    "padding_type = 'post'\n",
    "trunc_type = 'post'\n",
    "training_size = 20000\n",
    "oov_tok = '<OOV>'\n",
    "\n",
    "training_sentences = sentences[0:training_size]\n",
    "testing_sentences = sentences[training_size:]\n",
    "\n",
    "training_labels = labels[0:training_size]\n",
    "testing_labels = labels[training_size:]\n",
    "\n",
    "tokenizer  = Tokenizer(num_words = vocab_size, oov_token = oov_tok)\n",
    "tokenizer.fit_on_texts(training_sentences)\n",
    "word_index = tokenizer.word_index\n",
    "training_sequences =  tokenizer.texts_to_sequences(training_sentences)\n",
    "training_padded = pad_sequences(training_sequences, padding = \"post\",maxlen = max_length, truncating = trunc_type)\n",
    "\n",
    "testing_sequences = tokenizer.texts_to_sequences(testing_sentences)\n",
    "testing_padded = pad_sequences(testing_sequences, padding = \"post\",maxlen = max_length, truncating = trunc_type)\n"
   ]
  },
  {
   "cell_type": "code",
   "execution_count": 46,
   "metadata": {},
   "outputs": [
    {
     "name": "stdout",
     "output_type": "stream",
     "text": [
      "Model: \"sequential_3\"\n",
      "_________________________________________________________________\n",
      "Layer (type)                 Output Shape              Param #   \n",
      "=================================================================\n",
      "embedding_3 (Embedding)      (None, 32, 24)            24000     \n",
      "_________________________________________________________________\n",
      "global_average_pooling1d_3 ( (None, 24)                0         \n",
      "_________________________________________________________________\n",
      "dense_6 (Dense)              (None, 24)                600       \n",
      "_________________________________________________________________\n",
      "dense_7 (Dense)              (None, 1)                 25        \n",
      "=================================================================\n",
      "Total params: 24,625\n",
      "Trainable params: 24,625\n",
      "Non-trainable params: 0\n",
      "_________________________________________________________________\n"
     ]
    }
   ],
   "source": [
    "model = tf.keras.Sequential([\n",
    "    tf.keras.layers.Embedding(vocab_size,embedding_dim,input_length = max_length),\n",
    "    tf.keras.layers.GlobalAveragePooling1D(),\n",
    "    tf.keras.layers.Dense(24, activation = 'relu'),\n",
    "    tf.keras.layers.Dense(1,activation = 'sigmoid')\n",
    "])\n",
    "model.compile(loss = 'binary_crossentropy',optimizer = 'adam', metrics = ['accuracy'])\n",
    "model.summary()"
   ]
  },
  {
   "cell_type": "code",
   "execution_count": 50,
   "metadata": {},
   "outputs": [],
   "source": [
    "import numpy as np\n",
    "training_padded = np.array(training_padded)\n",
    "training_labels = np.array(training_labels)\n",
    "testing_padded = np.array(testing_padded)\n",
    "testing_labels = np.array(testing_labels)"
   ]
  },
  {
   "cell_type": "code",
   "execution_count": 51,
   "metadata": {},
   "outputs": [
    {
     "name": "stdout",
     "output_type": "stream",
     "text": [
      "Train on 20000 samples, validate on 6709 samples\n",
      "Epoch 1/30\n",
      "20000/20000 - 5s - loss: 0.5693 - accuracy: 0.7004 - val_loss: 0.4432 - val_accuracy: 0.7891\n",
      "Epoch 2/30\n",
      "20000/20000 - 3s - loss: 0.3903 - accuracy: 0.8231 - val_loss: 0.3984 - val_accuracy: 0.8153\n",
      "Epoch 3/30\n",
      "20000/20000 - 4s - loss: 0.3669 - accuracy: 0.8322 - val_loss: 0.3965 - val_accuracy: 0.8149\n",
      "Epoch 4/30\n",
      "20000/20000 - 4s - loss: 0.3606 - accuracy: 0.8350 - val_loss: 0.3979 - val_accuracy: 0.8158\n",
      "Epoch 5/30\n",
      "20000/20000 - 4s - loss: 0.3551 - accuracy: 0.8410 - val_loss: 0.4046 - val_accuracy: 0.8146\n",
      "Epoch 6/30\n",
      "20000/20000 - 3s - loss: 0.3526 - accuracy: 0.8393 - val_loss: 0.4020 - val_accuracy: 0.8152\n",
      "Epoch 7/30\n",
      "20000/20000 - 3s - loss: 0.3511 - accuracy: 0.8401 - val_loss: 0.4031 - val_accuracy: 0.8144\n",
      "Epoch 8/30\n",
      "20000/20000 - 3s - loss: 0.3497 - accuracy: 0.8416 - val_loss: 0.4062 - val_accuracy: 0.8135\n",
      "Epoch 9/30\n",
      "20000/20000 - 3s - loss: 0.3490 - accuracy: 0.8417 - val_loss: 0.4064 - val_accuracy: 0.8110\n",
      "Epoch 10/30\n",
      "20000/20000 - 2s - loss: 0.3481 - accuracy: 0.8404 - val_loss: 0.4064 - val_accuracy: 0.8119\n",
      "Epoch 11/30\n",
      "20000/20000 - 3s - loss: 0.3477 - accuracy: 0.8403 - val_loss: 0.4077 - val_accuracy: 0.8117\n",
      "Epoch 12/30\n",
      "20000/20000 - 4s - loss: 0.3464 - accuracy: 0.8435 - val_loss: 0.4076 - val_accuracy: 0.8116\n",
      "Epoch 13/30\n",
      "20000/20000 - 3s - loss: 0.3460 - accuracy: 0.8437 - val_loss: 0.4076 - val_accuracy: 0.8120\n",
      "Epoch 14/30\n",
      "20000/20000 - 4s - loss: 0.3450 - accuracy: 0.8422 - val_loss: 0.4065 - val_accuracy: 0.8129\n",
      "Epoch 15/30\n",
      "20000/20000 - 4s - loss: 0.3452 - accuracy: 0.8421 - val_loss: 0.4069 - val_accuracy: 0.8111\n",
      "Epoch 16/30\n",
      "20000/20000 - 4s - loss: 0.3447 - accuracy: 0.8442 - val_loss: 0.4062 - val_accuracy: 0.8122\n",
      "Epoch 17/30\n",
      "20000/20000 - 3s - loss: 0.3433 - accuracy: 0.8440 - val_loss: 0.4118 - val_accuracy: 0.8071\n",
      "Epoch 18/30\n",
      "20000/20000 - 3s - loss: 0.3442 - accuracy: 0.8433 - val_loss: 0.4054 - val_accuracy: 0.8120\n",
      "Epoch 19/30\n",
      "20000/20000 - 4s - loss: 0.3428 - accuracy: 0.8445 - val_loss: 0.4222 - val_accuracy: 0.7994\n",
      "Epoch 20/30\n",
      "20000/20000 - 3s - loss: 0.3424 - accuracy: 0.8438 - val_loss: 0.4080 - val_accuracy: 0.8104\n",
      "Epoch 21/30\n",
      "20000/20000 - 3s - loss: 0.3403 - accuracy: 0.8449 - val_loss: 0.4059 - val_accuracy: 0.8126\n",
      "Epoch 22/30\n",
      "20000/20000 - 3s - loss: 0.3388 - accuracy: 0.8473 - val_loss: 0.4109 - val_accuracy: 0.8126\n",
      "Epoch 23/30\n",
      "20000/20000 - 2s - loss: 0.3389 - accuracy: 0.8457 - val_loss: 0.4041 - val_accuracy: 0.8143\n",
      "Epoch 24/30\n",
      "20000/20000 - 3s - loss: 0.3375 - accuracy: 0.8454 - val_loss: 0.4048 - val_accuracy: 0.8140\n",
      "Epoch 25/30\n",
      "20000/20000 - 3s - loss: 0.3362 - accuracy: 0.8475 - val_loss: 0.4132 - val_accuracy: 0.8059\n",
      "Epoch 26/30\n",
      "20000/20000 - 3s - loss: 0.3347 - accuracy: 0.8481 - val_loss: 0.4041 - val_accuracy: 0.8155\n",
      "Epoch 27/30\n",
      "20000/20000 - 3s - loss: 0.3344 - accuracy: 0.8479 - val_loss: 0.4058 - val_accuracy: 0.8164\n",
      "Epoch 28/30\n",
      "20000/20000 - 3s - loss: 0.3333 - accuracy: 0.8473 - val_loss: 0.4052 - val_accuracy: 0.8153\n",
      "Epoch 29/30\n",
      "20000/20000 - 3s - loss: 0.3318 - accuracy: 0.8504 - val_loss: 0.4167 - val_accuracy: 0.8044\n",
      "Epoch 30/30\n",
      "20000/20000 - 3s - loss: 0.3311 - accuracy: 0.8491 - val_loss: 0.4103 - val_accuracy: 0.8134\n"
     ]
    }
   ],
   "source": [
    "num_epochs = 30\n",
    "#history = model.fit(training_padded,training_labels,epochs = 30 , validation_data=(testing_padded,testing_labels), verbose = 2)\n",
    "history = model.fit(training_padded, training_labels, epochs=num_epochs, validation_data=(testing_padded, testing_labels), verbose=2)"
   ]
  },
  {
   "cell_type": "code",
   "execution_count": 43,
   "metadata": {},
   "outputs": [
    {
     "data": {
      "image/png": "[encoded data removed]",
      "text/plain": [
       "<Figure size 432x288 with 1 Axes>"
      ]
     },
     "metadata": {
      "needs_background": "light"
     },
     "output_type": "display_data"
    },
    {
     "data": {
      "image/png": "[encoded data removed]",
      "text/plain": [
       "<Figure size 432x288 with 1 Axes>"
      ]
     },
     "metadata": {
      "needs_background": "light"
     },
     "output_type": "display_data"
    }
   ],
   "source": [
    "import matplotlib.pyplot as plt\n",
    "\n",
    "\n",
    "def plot_graphs(history, string):\n",
    "  plt.plot(history.history[string])\n",
    "  plt.plot(history.history['val_'+string])\n",
    "  plt.xlabel(\"Epochs\")\n",
    "  plt.ylabel(string)\n",
    "  plt.legend([string, 'val_'+string])\n",
    "  plt.show()\n",
    "  \n",
    "plot_graphs(history, \"accuracy\")\n",
    "plot_graphs(history, \"loss\")"
   ]
  },
  {
   "cell_type": "code",
   "execution_count": 37,
   "metadata": {},
   "outputs": [
    {
     "name": "stdout",
     "output_type": "stream",
     "text": [
      "former <OOV> store clerk sues over secret black code for minority shoppers ? ? ? ? ? ? ? ? ? ? ? ? ? ? ? ? ? ? ? ?\n",
      "former versace store clerk sues over secret black code for minority shoppers\n",
      "0\n"
     ]
    }
   ],
   "source": [
    "reverse_word_index = dict([(value, key) for (key, value) in word_index.items()])\n",
    "\n",
    "def decode_sentence(text):\n",
    "    return ' '.join([reverse_word_index.get(i, '?') for i in text])\n",
    "\n",
    "print(decode_sentence(training_padded[0]))\n",
    "print(training_sentences[0])\n",
    "print(labels[0])"
   ]
  },
  {
   "cell_type": "code",
   "execution_count": 38,
   "metadata": {},
   "outputs": [
    {
     "name": "stdout",
     "output_type": "stream",
     "text": [
      "(10000, 16)\n"
     ]
    }
   ],
   "source": [
    "e = model.layers[0]\n",
    "weights = e.get_weights()[0]\n",
    "print(weights.shape) # shape: (vocab_size, embedding_dim)"
   ]
  },
  {
   "cell_type": "code",
   "execution_count": 44,
   "metadata": {},
   "outputs": [
    {
     "name": "stdout",
     "output_type": "stream",
     "text": [
      "[[   1  890    2  891    1    5    4 2564  380   22  178    0    0    0\n",
      "     0    0    0    0    0    0    0    0    0    0    0    0    0    0\n",
      "     0    0    0    0]\n",
      " [ 249    3    1  247 3385 2933   20 1551  259    0    0    0    0    0\n",
      "     0    0    0    0    0    0    0    0    0    0    0    0    0    0\n",
      "     0    0    0    0]]\n",
      "[[9.818252e-01]\n",
      " [4.108190e-12]]\n"
     ]
    }
   ],
   "source": [
    "sentence = [\"granny starting to fear spiders in the garden might be real\", \"game of thrones season finale showing this sunday night\"]\n",
    "sequences = tokenizer.texts_to_sequences(sentence)\n",
    "padded = pad_sequences(sequences, maxlen=max_length, padding=padding_type, truncating=trunc_type)\n",
    "print(padded)\n",
    "print(model.predict(padded))"
   ]
  },
  {
   "cell_type": "code",
   "execution_count": null,
   "metadata": {},
   "outputs": [],
   "source": []
  }
 ],
 "metadata": {
  "kernelspec": {
   "display_name": "Python 3",
   "language": "python",
   "name": "python3"
  },
  "language_info": {
   "codemirror_mode": {
    "name": "ipython",
    "version": 3
   },
   "file_extension": ".py",
   "mimetype": "text/x-python",
   "name": "python",
   "nbconvert_exporter": "python",
   "pygments_lexer": "ipython3",
   "version": "3.6.10"
  }
 },
 "nbformat": 4,
 "nbformat_minor": 4
}
